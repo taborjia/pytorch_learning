{
 "cells": [
  {
   "cell_type": "code",
   "execution_count": 5,
   "id": "5d128ae0",
   "metadata": {
    "ExecuteTime": {
     "end_time": "2022-12-11T13:54:33.149433Z",
     "start_time": "2022-12-11T13:54:33.140442Z"
    }
   },
   "outputs": [],
   "source": [
    "import glob\n",
    "import random\n",
    "import shutil\n",
    "import os"
   ]
  },
  {
   "cell_type": "code",
   "execution_count": 6,
   "id": "7b70dd5d",
   "metadata": {
    "ExecuteTime": {
     "end_time": "2022-12-11T13:54:34.483119Z",
     "start_time": "2022-12-11T13:54:34.466079Z"
    }
   },
   "outputs": [],
   "source": [
    "def makedir(new_dir):\n",
    "    if not os.path.exists(new_dir):\n",
    "        os.makedirs(new_dir)"
   ]
  },
  {
   "cell_type": "code",
   "execution_count": 7,
   "id": "8c7f645d",
   "metadata": {
    "ExecuteTime": {
     "end_time": "2022-12-11T13:54:35.681025Z",
     "start_time": "2022-12-11T13:54:35.675025Z"
    }
   },
   "outputs": [],
   "source": [
    "dataset_dir = 'coil-20-proc'\n",
    "train_dir = os.path.join(\"Data\", \"train\")\n",
    "valid_dir = os.path.join(\"Data\", \"valid\")\n",
    "test_dir = os.path.join(\"Data\", \"test\")\n",
    "\n",
    "train_per = 0.5\n",
    "valid_per = 0\n",
    "test_per = 0.5"
   ]
  },
  {
   "cell_type": "code",
   "execution_count": 8,
   "id": "34b81168",
   "metadata": {
    "ExecuteTime": {
     "end_time": "2022-12-11T13:54:37.855215Z",
     "start_time": "2022-12-11T13:54:36.964262Z"
    }
   },
   "outputs": [
    {
     "name": "stdout",
     "output_type": "stream",
     "text": [
      "Class:01, train:36, valid:0, test:36\n",
      "Class:02, train:36, valid:0, test:36\n",
      "Class:03, train:36, valid:0, test:36\n",
      "Class:04, train:36, valid:0, test:36\n",
      "Class:05, train:36, valid:0, test:36\n",
      "Class:06, train:36, valid:0, test:36\n",
      "Class:07, train:36, valid:0, test:36\n",
      "Class:08, train:36, valid:0, test:36\n",
      "Class:09, train:36, valid:0, test:36\n",
      "Class:10, train:36, valid:0, test:36\n",
      "Class:11, train:36, valid:0, test:36\n",
      "Class:12, train:36, valid:0, test:36\n",
      "Class:13, train:36, valid:0, test:36\n",
      "Class:14, train:36, valid:0, test:36\n",
      "Class:15, train:36, valid:0, test:36\n",
      "Class:16, train:36, valid:0, test:36\n",
      "Class:17, train:36, valid:0, test:36\n",
      "Class:18, train:36, valid:0, test:36\n",
      "Class:19, train:36, valid:0, test:36\n",
      "Class:20, train:36, valid:0, test:36\n"
     ]
    }
   ],
   "source": [
    "if __name__ == '__main__':\n",
    "\n",
    "    for root, dirs, files in os.walk(dataset_dir):\n",
    "        for sDir in dirs:\n",
    "            imgs_list = glob.glob(os.path.join(root, sDir, '*.png'))\n",
    "            random.seed(666)\n",
    "            random.shuffle(imgs_list)\n",
    "            imgs_num = len(imgs_list)\n",
    "\n",
    "            train_point = int(imgs_num * train_per)\n",
    "            valid_point = int(imgs_num * (train_per + valid_per))\n",
    "\n",
    "            for i in range(imgs_num):\n",
    "                if i < train_point:\n",
    "                    out_dir = os.path.join(train_dir, sDir)\n",
    "                elif i < valid_point:\n",
    "                    out_dir = os.path.join(valid_dir, sDir)\n",
    "                else:\n",
    "                    out_dir = os.path.join(test_dir, sDir)\n",
    "\n",
    "                makedir(out_dir)\n",
    "                out_path = os.path.join(out_dir, os.path.split(imgs_list[i])[-1])\n",
    "                shutil.copy(imgs_list[i], out_path)\n",
    "\n",
    "            print('Class:{}, train:{}, valid:{}, test:{}'.format(sDir, train_point, valid_point-train_point, imgs_num-valid_point))"
   ]
  },
  {
   "cell_type": "code",
   "execution_count": null,
   "id": "61b41dab",
   "metadata": {},
   "outputs": [],
   "source": []
  },
  {
   "cell_type": "code",
   "execution_count": null,
   "id": "d22d432b",
   "metadata": {},
   "outputs": [],
   "source": []
  }
 ],
 "metadata": {
  "kernelspec": {
   "display_name": "Python 3 (ipykernel)",
   "language": "python",
   "name": "python3"
  },
  "language_info": {
   "codemirror_mode": {
    "name": "ipython",
    "version": 3
   },
   "file_extension": ".py",
   "mimetype": "text/x-python",
   "name": "python",
   "nbconvert_exporter": "python",
   "pygments_lexer": "ipython3",
   "version": "3.10.6"
  }
 },
 "nbformat": 4,
 "nbformat_minor": 5
}
